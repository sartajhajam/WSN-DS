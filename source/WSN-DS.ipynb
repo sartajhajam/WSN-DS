{
 "cells": [
  {
   "cell_type": "code",
   "execution_count": 11,
   "metadata": {},
   "outputs": [],
   "source": [
    "# Create a spark session and import the required libraries\n",
    "\n",
    "import findspark\n",
    "findspark.init()\n",
    "from pyspark.sql import *\n",
    "from pyspark.sql.functions import col,countDistinct,expr,concat,regexp_extract"
   ]
  },
  {
   "cell_type": "code",
   "execution_count": 12,
   "metadata": {},
   "outputs": [],
   "source": [
    "# build session \n",
    "from pyspark.sql import SparkSession\n",
    "spark = SparkSession.builder.appName(\"WSN-DS\").getOrCreate()"
   ]
  },
  {
   "cell_type": "code",
   "execution_count": 13,
   "metadata": {},
   "outputs": [],
   "source": [
    "from pyspark.sql.types import DoubleType, StringType, StructType, StructField, IntegerType, TimestampType"
   ]
  },
  {
   "cell_type": "markdown",
   "metadata": {},
   "source": [
    "# loading data"
   ]
  },
  {
   "cell_type": "code",
   "execution_count": 14,
   "metadata": {},
   "outputs": [],
   "source": [
    "#  Create a data schema programatically\n",
    "\n",
    "schema = StructType([StructField(\"id\", IntegerType(), False),\n",
    "                     StructField(\"Time\", IntegerType(), False),\n",
    "                     StructField(\"Is_CH\", IntegerType(), False),\n",
    "                     StructField(\"who_CH\", IntegerType(), False),\n",
    "                     StructField(\"Dist_To_CH\",DoubleType(), False),\n",
    "                     StructField(\"ADV_S\", IntegerType(), False),\n",
    "                     StructField(\"ADV_R\", IntegerType(), False),\n",
    "                     StructField(\"JOIN_S\", IntegerType(), False),\n",
    "                     StructField(\"JOIN_R\", IntegerType(), False),\n",
    "                     StructField(\"SCH_S\", IntegerType(), False),\n",
    "                     StructField(\"SCH_R\", IntegerType(), False),\n",
    "                     StructField(\"Rank\", IntegerType(), False),\n",
    "                     StructField(\"DATA_S\", IntegerType(), False),\n",
    "                     StructField(\"DATA_R\", IntegerType(), False),\n",
    "                     StructField(\"Data_Sent_To_BS\", IntegerType(), False),\n",
    "                     StructField(\"dist_CH_To_BS\", DoubleType(), False),\n",
    "                     StructField(\"send_code\", IntegerType(), False),\n",
    "                     StructField(\"Expaned_Energy\", DoubleType(), False),\n",
    "                     StructField(\"Attack_type\", StringType(), False)])"
   ]
  },
  {
   "cell_type": "code",
   "execution_count": 15,
   "metadata": {},
   "outputs": [],
   "source": [
    "# Read the data using the standard DataReader (Key,Value) pairs format\n",
    "\n",
    "data = spark.read.csv(\"data/WSN-DS.csv\", header=\"true\", schema=schema, inferSchema=\"true\")"
   ]
  },
  {
   "cell_type": "markdown",
   "metadata": {},
   "source": [
    "# Explore the data "
   ]
  },
  {
   "cell_type": "code",
   "execution_count": 7,
   "metadata": {},
   "outputs": [
    {
     "name": "stdout",
     "output_type": "stream",
     "text": [
      "root\n",
      " |-- id: integer (nullable = true)\n",
      " |-- Time: integer (nullable = true)\n",
      " |-- Is_CH: integer (nullable = true)\n",
      " |-- who_CH: integer (nullable = true)\n",
      " |-- Dist_To_CH: double (nullable = true)\n",
      " |-- ADV_S: integer (nullable = true)\n",
      " |-- ADV_R: integer (nullable = true)\n",
      " |-- JOIN_S: integer (nullable = true)\n",
      " |-- JOIN_R: integer (nullable = true)\n",
      " |-- SCH_S: integer (nullable = true)\n",
      " |-- SCH_R: integer (nullable = true)\n",
      " |-- Rank: integer (nullable = true)\n",
      " |-- DATA_S: integer (nullable = true)\n",
      " |-- DATA_R: integer (nullable = true)\n",
      " |-- Data_Sent_To_BS: integer (nullable = true)\n",
      " |-- dist_CH_To_BS: double (nullable = true)\n",
      " |-- send_code: integer (nullable = true)\n",
      " |-- Expaned_Energy: double (nullable = true)\n",
      " |-- Attack_type: string (nullable = true)\n",
      "\n"
     ]
    }
   ],
   "source": [
    "# Print the Schema\n",
    "\n",
    "data.printSchema()"
   ]
  },
  {
   "cell_type": "code",
   "execution_count": 9,
   "metadata": {
    "scrolled": true
   },
   "outputs": [
    {
     "name": "stdout",
     "output_type": "stream",
     "text": [
      "+------+----+-----+------+----------+-----+-----+------+------+-----+-----+----+------+------+---------------+-------------+---------+--------------+-----------+\n",
      "|    id|Time|Is_CH|who_CH|Dist_To_CH|ADV_S|ADV_R|JOIN_S|JOIN_R|SCH_S|SCH_R|Rank|DATA_S|DATA_R|Data_Sent_To_BS|dist_CH_To_BS|send_code|Expaned_Energy|Attack_type|\n",
      "+------+----+-----+------+----------+-----+-----+------+------+-----+-----+----+------+------+---------------+-------------+---------+--------------+-----------+\n",
      "|101000|  50|    1|101000|       0.0|    1|    0|     0|    25|    1|    0|   0|     0|  1200|             48|    130.08535|        0|        2.4694|     Normal|\n",
      "|101001|  50|    0|101044|  75.32345|    0|    4|     1|     0|    0|    1|   2|    38|     0|              0|          0.0|        4|       0.06957|     Normal|\n",
      "|101002|  50|    0|101010|  46.95453|    0|    4|     1|     0|    0|    1|  19|    41|     0|              0|          0.0|        3|       0.06898|     Normal|\n",
      "|101003|  50|    0|101044|  64.85231|    0|    4|     1|     0|    0|    1|  16|    38|     0|              0|          0.0|        4|       0.06673|     Normal|\n",
      "|101004|  50|    0|101010|   4.83341|    0|    4|     1|     0|    0|    1|  25|    41|     0|              0|          0.0|        3|       0.06534|     Normal|\n",
      "|101005|  50|    0|101010|  31.91198|    0|    4|     1|     0|    0|    1|  18|    41|     0|              0|          0.0|        3|       0.06717|     Normal|\n",
      "|101006|  50|    0|101044|  24.34167|    0|    4|     1|     0|    0|    1|   5|    38|     0|              0|          0.0|        4|       0.06214|     Normal|\n",
      "|101007|  50|    0|101010|  26.75033|    0|    4|     1|     0|    0|    1|  21|    41|     0|              0|          0.0|        3|       0.06662|     Normal|\n",
      "|101008|  50|    0|101044|  63.66485|    0|    4|     1|     0|    0|    1|  17|    38|     0|              0|          0.0|        4|       0.06649|     Normal|\n",
      "|101009|  50|    0|101000|  32.90217|    0|    4|     1|     0|    0|    1|  12|    48|     0|              0|          0.0|        1|       0.07903|     Normal|\n",
      "+------+----+-----+------+----------+-----+-----+------+------+-----+-----+----+------+------+---------------+-------------+---------+--------------+-----------+\n",
      "only showing top 10 rows\n",
      "\n"
     ]
    }
   ],
   "source": [
    "# show first 10 rows in the data\n",
    "\n",
    "data.show(10)"
   ]
  },
  {
   "cell_type": "code",
   "execution_count": 20,
   "metadata": {},
   "outputs": [
    {
     "name": "stdout",
     "output_type": "stream",
     "text": [
      "[]\n"
     ]
    }
   ],
   "source": [
    "# Explore null values and show how many null values in each column\n",
    "\n",
    "import pyspark.sql.functions as F\n",
    "null_col = []\n",
    "for name in data.columns:\n",
    "    null_val = data.where(F.col(name).isNull()).count()\n",
    "    if(null_val > 0):\n",
    "        null_col.append((name, null_val))\n",
    "print(null_col)"
   ]
  },
  {
   "cell_type": "code",
   "execution_count": 11,
   "metadata": {},
   "outputs": [
    {
     "data": {
      "text/plain": [
       "<AxesSubplot:xlabel='Is_CH', ylabel='count'>"
      ]
     },
     "execution_count": 11,
     "metadata": {},
     "output_type": "execute_result"
    },
    {
     "data": {
      "image/png": "[encoded data removed]",
      "text/plain": [
       "<Figure size 432x288 with 1 Axes>"
      ]
     },
     "metadata": {
      "needs_background": "light"
     },
     "output_type": "display_data"
    }
   ],
   "source": [
    "# Plot a count plot for the target label and notice the graph\n",
    "\n",
    "import seaborn as sns\n",
    "sns.countplot(data=data.select(F.col('Is_CH')).toPandas(),x='Is_CH')"
   ]
  },
  {
   "cell_type": "code",
   "execution_count": 15,
   "metadata": {},
   "outputs": [
    {
     "data": {
      "text/plain": [
       "<AxesSubplot:xlabel='Attack_type', ylabel='count'>"
      ]
     },
     "execution_count": 15,
     "metadata": {},
     "output_type": "execute_result"
    },
    {
     "data": {
      "image/png": "[encoded data removed]",
      "text/plain": [
       "<Figure size 432x288 with 1 Axes>"
      ]
     },
     "metadata": {
      "needs_background": "light"
     },
     "output_type": "display_data"
    }
   ],
   "source": [
    "# Plot a count plot for the target label and notice the graph\n",
    "\n",
    "import seaborn as sns\n",
    "sns.countplot(data=data.select(F.col('Attack_type')).toPandas(),x='Attack_type')"
   ]
  },
  {
   "cell_type": "code",
   "execution_count": 16,
   "metadata": {
    "scrolled": false
   },
   "outputs": [
    {
     "name": "stdout",
     "output_type": "stream",
     "text": [
      "+-----+------+\n",
      "|Is_CH| count|\n",
      "+-----+------+\n",
      "|    0|331288|\n",
      "|    1| 43373|\n",
      "+-----+------+\n",
      "\n"
     ]
    }
   ],
   "source": [
    "# show each target and its classes\n",
    "\n",
    "age_group = data.groupBy('Is_CH').count().orderBy('Is_CH',ascending=True)\n",
    "age_group.show()"
   ]
  },
  {
   "cell_type": "code",
   "execution_count": 17,
   "metadata": {},
   "outputs": [
    {
     "name": "stdout",
     "output_type": "stream",
     "text": [
      "+-----------+------+\n",
      "|Attack_type| count|\n",
      "+-----------+------+\n",
      "|  Blackhole| 10049|\n",
      "|   Flooding|  3312|\n",
      "|   Grayhole| 14596|\n",
      "|     Normal|340066|\n",
      "|       TDMA|  6638|\n",
      "+-----------+------+\n",
      "\n"
     ]
    }
   ],
   "source": [
    "# show each target and its classes\n",
    "\n",
    "age_group = data.groupBy('Attack_type').count().orderBy('Attack_type',ascending=True)\n",
    "age_group.show()"
   ]
  },
  {
   "cell_type": "code",
   "execution_count": 20,
   "metadata": {},
   "outputs": [],
   "source": [
    "# mapping Attack_type column\n",
    "\n",
    "def Attack_type_col_Func(col):\n",
    "    if col == 'Normal':\n",
    "        return 0\n",
    "    elif col == 'Blackhole':\n",
    "        return 1\n",
    "    elif col == 'Flooding':\n",
    "        return 2\n",
    "    elif col == 'Grayhole':\n",
    "        return 3\n",
    "    else:\n",
    "        return 4"
   ]
  },
  {
   "cell_type": "code",
   "execution_count": 14,
   "metadata": {
    "scrolled": true
   },
   "outputs": [
    {
     "name": "stdout",
     "output_type": "stream",
     "text": [
      "+------+----+-----+------+----------+-----+-----+------+------+-----+-----+----+------+------+---------------+-------------+---------+--------------+-----------+\n",
      "|    id|Time|Is_CH|who_CH|Dist_To_CH|ADV_S|ADV_R|JOIN_S|JOIN_R|SCH_S|SCH_R|Rank|DATA_S|DATA_R|Data_Sent_To_BS|dist_CH_To_BS|send_code|Expaned_Energy|Attack_type|\n",
      "+------+----+-----+------+----------+-----+-----+------+------+-----+-----+----+------+------+---------------+-------------+---------+--------------+-----------+\n",
      "|101000|  50|    1|101000|       0.0|    1|    0|     0|    25|    1|    0|   0|     0|  1200|             48|    130.08535|        0|        2.4694|          0|\n",
      "|101001|  50|    0|101044|  75.32345|    0|    4|     1|     0|    0|    1|   2|    38|     0|              0|          0.0|        4|       0.06957|          0|\n",
      "|101002|  50|    0|101010|  46.95453|    0|    4|     1|     0|    0|    1|  19|    41|     0|              0|          0.0|        3|       0.06898|          0|\n",
      "|101003|  50|    0|101044|  64.85231|    0|    4|     1|     0|    0|    1|  16|    38|     0|              0|          0.0|        4|       0.06673|          0|\n",
      "|101004|  50|    0|101010|   4.83341|    0|    4|     1|     0|    0|    1|  25|    41|     0|              0|          0.0|        3|       0.06534|          0|\n",
      "|101005|  50|    0|101010|  31.91198|    0|    4|     1|     0|    0|    1|  18|    41|     0|              0|          0.0|        3|       0.06717|          0|\n",
      "|101006|  50|    0|101044|  24.34167|    0|    4|     1|     0|    0|    1|   5|    38|     0|              0|          0.0|        4|       0.06214|          0|\n",
      "|101007|  50|    0|101010|  26.75033|    0|    4|     1|     0|    0|    1|  21|    41|     0|              0|          0.0|        3|       0.06662|          0|\n",
      "|101008|  50|    0|101044|  63.66485|    0|    4|     1|     0|    0|    1|  17|    38|     0|              0|          0.0|        4|       0.06649|          0|\n",
      "|101009|  50|    0|101000|  32.90217|    0|    4|     1|     0|    0|    1|  12|    48|     0|              0|          0.0|        1|       0.07903|          0|\n",
      "|101010|  50|    1|101010|       0.0|    1|    0|     0|    30|    1|    0|   0|     0|  1230|             41|    108.77162|        0|        2.3611|          0|\n",
      "|101011|  50|    0|101044|  13.17446|    0|    4|     1|     0|    0|    1|  10|    38|     0|              0|          0.0|        4|        0.0613|          0|\n",
      "|101012|  50|    0|101044|  48.16567|    0|    4|     1|     0|    0|    1|  13|    38|     0|              0|          0.0|        4|       0.06425|          0|\n",
      "|101013|  50|    0|101010|   66.9102|    0|    4|     1|     0|    0|    1|  16|    41|     0|              0|          0.0|        3|       0.07263|          0|\n",
      "|101014|  50|    0|101010|  31.69105|    0|    4|     1|     0|    0|    1|  17|    41|     0|              0|          0.0|        3|       0.06716|          0|\n",
      "|101015|  50|    0|101010|  21.52629|    0|    4|     1|     0|    0|    1|   8|    41|     0|              0|          0.0|        3|       0.06654|          0|\n",
      "|101016|  50|    0|101010|  74.73928|    0|    4|     1|     0|    0|    1|   4|    41|     0|              0|          0.0|        3|        0.0749|          0|\n",
      "|101017|  50|    0|101044|  27.78157|    0|    4|     1|     0|    0|    1|  29|    38|     0|              0|          0.0|        4|       0.06139|          0|\n",
      "|101018|  50|    0|101010|   25.5197|    0|    4|     1|     0|    0|    1|  26|    41|     0|              0|          0.0|        3|       0.06618|          0|\n",
      "|101019|  50|    0|101044|  41.21473|    0|    4|     1|     0|    0|    1|  28|    38|     0|              0|          0.0|        4|        0.0628|          0|\n",
      "+------+----+-----+------+----------+-----+-----+------+------+-----+-----+----+------+------+---------------+-------------+---------+--------------+-----------+\n",
      "only showing top 20 rows\n",
      "\n"
     ]
    }
   ],
   "source": [
    "# apply the mapping on \"Attack_type\"\n",
    "\n",
    "#Attack_type2 = F.udf(Attack_type_col_Func, IntegerType())\n",
    "#data = data.withColumn('Attack_type', Attack_type2('Attack_type'))\n",
    "#data.show()"
   ]
  },
  {
   "cell_type": "code",
   "execution_count": 26,
   "metadata": {},
   "outputs": [],
   "source": [
    "# Split the data into training and test dataframes\n",
    "\n",
    "trainX, testX = data.randomSplit([0.8, 0.2], seed = 42)\n",
    "\n",
    "trainX.write.parquet(\"train.parquet\")\n",
    "testX.write.parquet(\"test.parquet\")\n",
    "\n",
    "trainX = spark.read.parquet(\"train.parquet\")\n",
    "testX = spark.read.parquet(\"test.parquet\")"
   ]
  },
  {
   "cell_type": "code",
   "execution_count": 27,
   "metadata": {
    "scrolled": true
   },
   "outputs": [
    {
     "name": "stdout",
     "output_type": "stream",
     "text": [
      "root\n",
      " |-- id: integer (nullable = true)\n",
      " |-- Time: integer (nullable = true)\n",
      " |-- Is_CH: integer (nullable = true)\n",
      " |-- who_CH: integer (nullable = true)\n",
      " |-- Dist_To_CH: double (nullable = true)\n",
      " |-- ADV_S: integer (nullable = true)\n",
      " |-- ADV_R: integer (nullable = true)\n",
      " |-- JOIN_S: integer (nullable = true)\n",
      " |-- JOIN_R: integer (nullable = true)\n",
      " |-- SCH_S: integer (nullable = true)\n",
      " |-- SCH_R: integer (nullable = true)\n",
      " |-- Rank: integer (nullable = true)\n",
      " |-- DATA_S: integer (nullable = true)\n",
      " |-- DATA_R: integer (nullable = true)\n",
      " |-- Data_Sent_To_BS: integer (nullable = true)\n",
      " |-- dist_CH_To_BS: double (nullable = true)\n",
      " |-- send_code: integer (nullable = true)\n",
      " |-- Expaned_Energy: double (nullable = true)\n",
      " |-- Attack_type: string (nullable = true)\n",
      "\n"
     ]
    }
   ],
   "source": [
    "data.printSchema()"
   ]
  },
  {
   "cell_type": "code",
   "execution_count": 17,
   "metadata": {},
   "outputs": [],
   "source": [
    "\n",
    "x = data.columns"
   ]
  },
  {
   "cell_type": "code",
   "execution_count": 18,
   "metadata": {},
   "outputs": [
    {
     "data": {
      "text/plain": [
       "'id'"
      ]
     },
     "execution_count": 18,
     "metadata": {},
     "output_type": "execute_result"
    }
   ],
   "source": [
    "x.pop(0)"
   ]
  },
  {
   "cell_type": "code",
   "execution_count": 19,
   "metadata": {},
   "outputs": [
    {
     "data": {
      "text/plain": [
       "['Time',\n",
       " 'Is_CH',\n",
       " 'who_CH',\n",
       " 'Dist_To_CH',\n",
       " 'ADV_S',\n",
       " 'ADV_R',\n",
       " 'JOIN_S',\n",
       " 'JOIN_R',\n",
       " 'SCH_S',\n",
       " 'SCH_R',\n",
       " 'Rank',\n",
       " 'DATA_S',\n",
       " 'DATA_R',\n",
       " 'Data_Sent_To_BS',\n",
       " 'dist_CH_To_BS',\n",
       " 'send_code',\n",
       " 'Expaned_Energy',\n",
       " 'Attack_type']"
      ]
     },
     "execution_count": 19,
     "metadata": {},
     "output_type": "execute_result"
    }
   ],
   "source": [
    "# now x is a list which contain all columns except 'id'\n",
    "x"
   ]
  },
  {
   "cell_type": "code",
   "execution_count": 20,
   "metadata": {},
   "outputs": [
    {
     "data": {
      "text/plain": [
       "['Time',\n",
       " 'Is_CH',\n",
       " 'who_CH',\n",
       " 'Dist_To_CH',\n",
       " 'ADV_S',\n",
       " 'ADV_R',\n",
       " 'JOIN_S',\n",
       " 'JOIN_R',\n",
       " 'SCH_S',\n",
       " 'SCH_R',\n",
       " 'Rank',\n",
       " 'DATA_S',\n",
       " 'DATA_R',\n",
       " 'Data_Sent_To_BS',\n",
       " 'dist_CH_To_BS',\n",
       " 'send_code',\n",
       " 'Expaned_Energy',\n",
       " 'Attack_type']"
      ]
     },
     "execution_count": 20,
     "metadata": {},
     "output_type": "execute_result"
    }
   ],
   "source": [
    "# make the assembler to be trained\n",
    "from pyspark.ml.feature import StringIndexer, VectorAssembler, OneHotEncoder\n",
    "\n",
    "\n",
    "assemblerInputs = x\n",
    "assemblerInputs"
   ]
  },
  {
   "cell_type": "code",
   "execution_count": 21,
   "metadata": {},
   "outputs": [
    {
     "data": {
      "text/plain": [
       "VectorAssembler_bc72bb9f9425"
      ]
     },
     "execution_count": 21,
     "metadata": {},
     "output_type": "execute_result"
    }
   ],
   "source": [
    "vecAssembler = VectorAssembler(inputCols=assemblerInputs,outputCol='features')\n",
    "vecAssembler"
   ]
  },
  {
   "cell_type": "code",
   "execution_count": 22,
   "metadata": {},
   "outputs": [
    {
     "name": "stdout",
     "output_type": "stream",
     "text": [
      "+------+----+-----+------+----------+-----+-----+------+------+-----+-----+----+------+------+---------------+-------------+---------+--------------+-----------+--------------------+--------------------+--------------------+----------+\n",
      "|    id|Time|Is_CH|who_CH|Dist_To_CH|ADV_S|ADV_R|JOIN_S|JOIN_R|SCH_S|SCH_R|Rank|DATA_S|DATA_R|Data_Sent_To_BS|dist_CH_To_BS|send_code|Expaned_Energy|Attack_type|            features|       rawPrediction|         probability|prediction|\n",
      "+------+----+-----+------+----------+-----+-----+------+------+-----+-----+----+------+------+---------------+-------------+---------+--------------+-----------+--------------------+--------------------+--------------------+----------+\n",
      "|101000|  53|    0|101001|   41.3236|    0|    4|     1|     0|    0|    1|  27|    21|     0|              0|          0.0|        3|       0.03571|          0|(18,[0,2,3,5,6,9,...|[10.5847416752231...|[0.99997470153849...|       0.0|\n",
      "|101000|  53|    0|101054|  13.27739|    0|    5|     1|     0|    0|    1|   1|    51|     0|              0|          0.0|        1|       0.08335|          0|(18,[0,2,3,5,6,9,...|[8.87332808285237...|[0.99985994399066...|       0.0|\n",
      "|101000|  53|    0|101054|  13.27739|    0|    6|     1|     0|    0|    1|   1|    37|     0|              0|          0.0|        6|       0.06011|          0|(18,[0,2,3,5,6,9,...|[9.84882572787318...|[0.99994719361970...|       0.0|\n",
      "|101000|  53|    0|101083|   8.06814|    0|    9|     1|     0|    0|    1|   5|   120|     0|              0|          0.0|        3|        0.1937|          4|[53.0,0.0,101083....|[6.96081952025310...|[0.99905257936776...|       0.0|\n",
      "|101001|  53|    0|101024|   2.33995|    0|    7|     1|     0|    0|    1|   2|   144|     0|              0|          0.0|        2|       0.23317|          0|(18,[0,2,3,5,6,9,...|[10.4714571219504...|[0.99997166705950...|       0.0|\n",
      "|101001|  53|    0|101048|  21.64855|    0|   11|     1|     0|    0|    1|   1|   131|     0|              0|          0.0|        1|       0.21333|          0|(18,[0,2,3,5,6,9,...|[10.3645777006370...|[0.99996847120270...|       0.0|\n",
      "|101002|  53|    0|101001|  33.45618|    0|    4|     1|     0|    0|    1|  53|    21|     0|              0|          0.0|        3|       0.03473|          0|(18,[0,2,3,5,6,9,...|[11.3062305462544...|[0.99998770407734...|       0.0|\n",
      "|101002|  53|    0|101021|  56.11277|    0|    1|     1|     0|    0|    1|  30|    13|     0|              0|          0.0|        1|       0.02341|          0|(18,[0,2,3,5,6,9,...|[10.5472469066413...|[0.99997373499654...|       0.0|\n",
      "|101002|  53|    0|101030|  23.84422|    0|    1|     1|     0|    0|    1|   1|    13|     0|              0|          0.0|        1|       0.02201|          0|(18,[0,2,3,5,6,9,...|[8.60336659178611...|[0.99981654663454...|       0.0|\n",
      "|101002|  53|    0|101079|  10.00048|    0|    7|     1|     0|    0|    1|  18|    62|     0|              0|          0.0|        1|       0.09987|          0|(18,[0,2,3,5,6,9,...|[9.53444500075443...|[0.99992768777208...|       0.0|\n",
      "|101003|  53|    0|101002|  50.11913|    0|    4|     1|     0|    0|    1|  27|    35|     0|              0|          0.0|        2|       0.05994|          0|(18,[0,2,3,5,6,9,...|[10.8294071060670...|[0.99998019204462...|       0.0|\n",
      "|101003|  53|    0|101030|  49.42539|    0|    1|     1|     0|    0|    1|   1|    13|     0|              0|          0.0|        1|       0.02237|          0|(18,[0,2,3,5,6,9,...|[9.31331560891866...|[0.99990979320668...|       0.0|\n",
      "|101003|  53|    0|101050|  66.10488|    0|    4|     1|     0|    0|    1|  12|    38|     0|              0|          0.0|        1|       0.06823|          0|(18,[0,2,3,5,6,9,...|[10.5334523290056...|[0.99997337018111...|       0.0|\n",
      "|101003|  53|    1|101003|       0.0|    1|    0|     0|     5|    1|    0|   0|     0|   720|            144|    172.33319|        0|       2.46822|          0|(18,[0,1,2,4,7,8,...|[-6.8360091932860...|[0.00107322944939...|       1.0|\n",
      "|101003|  53|    1|101003|       0.0|    1|    0|     0|    10|    1|    0|   0|     0|   960|             54|     85.19787|        0|       2.06725|          3|[53.0,1.0,101003....|[-8.9394612222353...|[1.31094473188598...|       1.0|\n",
      "|101004|  53|    0|101021|   87.5768|    0|    1|     1|     0|    0|    1|  55|    13|     0|              0|          0.0|        1|       0.02529|          0|(18,[0,2,3,5,6,9,...|[12.3242342980298...|[0.99999555725771...|       0.0|\n",
      "|101005|  53|    0|101030|  52.75449|    0|    1|     1|     0|    0|    1|   1|    13|     0|              0|          0.0|        1|       0.02251|          0|(18,[0,2,3,5,6,9,...|[9.40571105769836...|[0.99991775379484...|       0.0|\n",
      "|101005|  53|    0|101098|  32.62355|    0|    2|     1|     0|    0|    1|  17|    14|     0|              0|          0.0|        1|       0.02422|          0|(18,[0,2,3,5,6,9,...|[9.41324386513744...|[0.99991837096167...|       0.0|\n",
      "|101006|  53|    0|101076|   8.15863|    0|    9|     1|     0|    0|    1|   1|    80|     0|              0|          0.0|        2|       0.12928|          0|(18,[0,2,3,5,6,9,...|[9.38397110087638...|[0.99991594634037...|       0.0|\n",
      "|101006|  53|    0|101083|  20.96499|    0|    6|     1|     0|    0|    1|   3|    76|     0|              0|          0.0|        1|       0.12462|          0|(18,[0,2,3,5,6,9,...|[9.57892339318050...|[0.99993083340631...|       0.0|\n",
      "+------+----+-----+------+----------+-----+-----+------+------+-----+-----+----+------+------+---------------+-------------+---------+--------------+-----------+--------------------+--------------------+--------------------+----------+\n",
      "only showing top 20 rows\n",
      "\n"
     ]
    }
   ],
   "source": [
    "# Create the model\n",
    "\n",
    "from pyspark.ml import Pipeline\n",
    "from pyspark.ml.classification import LogisticRegression\n",
    "LR = LogisticRegression(featuresCol = 'features', labelCol = 'Is_CH', maxIter=10)\n",
    "\n",
    "pl = Pipeline(stages=[vecAssembler,LR])\n",
    "\n",
    "pred = pl.fit(trainX).transform(testX)\n",
    "pred.show()"
   ]
  },
  {
   "cell_type": "code",
   "execution_count": 23,
   "metadata": {
    "scrolled": true
   },
   "outputs": [
    {
     "name": "stdout",
     "output_type": "stream",
     "text": [
      "+--------------------+\n",
      "|            features|\n",
      "+--------------------+\n",
      "|(18,[0,2,3,5,6,9,...|\n",
      "|(18,[0,2,3,5,6,9,...|\n",
      "|(18,[0,2,3,5,6,9,...|\n",
      "|[53.0,0.0,101083....|\n",
      "|(18,[0,2,3,5,6,9,...|\n",
      "|(18,[0,2,3,5,6,9,...|\n",
      "|(18,[0,2,3,5,6,9,...|\n",
      "|(18,[0,2,3,5,6,9,...|\n",
      "|(18,[0,2,3,5,6,9,...|\n",
      "|(18,[0,2,3,5,6,9,...|\n",
      "|(18,[0,2,3,5,6,9,...|\n",
      "|(18,[0,2,3,5,6,9,...|\n",
      "|(18,[0,2,3,5,6,9,...|\n",
      "|(18,[0,1,2,4,7,8,...|\n",
      "|[53.0,1.0,101003....|\n",
      "|(18,[0,2,3,5,6,9,...|\n",
      "|(18,[0,2,3,5,6,9,...|\n",
      "|(18,[0,2,3,5,6,9,...|\n",
      "|(18,[0,2,3,5,6,9,...|\n",
      "|(18,[0,2,3,5,6,9,...|\n",
      "+--------------------+\n",
      "only showing top 20 rows\n",
      "\n"
     ]
    }
   ],
   "source": [
    "pred.select('features').show()"
   ]
  },
  {
   "cell_type": "code",
   "execution_count": 24,
   "metadata": {},
   "outputs": [
    {
     "data": {
      "text/plain": [
       "1.0"
      ]
     },
     "execution_count": 24,
     "metadata": {},
     "output_type": "execute_result"
    }
   ],
   "source": [
    "# evaluate the result\n",
    "from pyspark.ml.evaluation import BinaryClassificationEvaluator\n",
    "\n",
    "evaluatorROC = BinaryClassificationEvaluator(rawPredictionCol='prediction'\n",
    "                                             ,labelCol='Is_CH')\n",
    "\n",
    "evaluatorROC.evaluate(pred)"
   ]
  },
  {
   "cell_type": "markdown",
   "metadata": {},
   "source": [
    "# Section 2"
   ]
  },
  {
   "cell_type": "code",
   "execution_count": 16,
   "metadata": {
    "scrolled": true
   },
   "outputs": [],
   "source": [
    "from pyspark.ml import Pipeline\n",
    "from pyspark.ml.feature import StringIndexer,OneHotEncoder,VectorAssembler\n",
    "from pyspark.sql.functions import col, explode, array, lit"
   ]
  },
  {
   "cell_type": "markdown",
   "metadata": {},
   "source": [
    "# Over Sampling"
   ]
  },
  {
   "cell_type": "code",
   "execution_count": 17,
   "metadata": {},
   "outputs": [
    {
     "name": "stdout",
     "output_type": "stream",
     "text": [
      "ratio: 7\n"
     ]
    }
   ],
   "source": [
    "#get the majority and minority data\n",
    "major_df = data.filter(col(\"Is_CH\") == 0)\n",
    "minor_df = data.filter(col(\"Is_CH\") == 1)\n",
    "# calculte the ratio\n",
    "ratio = int(major_df.count()/minor_df.count())\n",
    "print(\"ratio: {}\".format(ratio))"
   ]
  },
  {
   "cell_type": "code",
   "execution_count": 164,
   "metadata": {},
   "outputs": [],
   "source": [
    "a = range(ratio)\n",
    "# duplicate the minority rows\n",
    "oversampled_df = minor_df.withColumn(\"dummy\", explode(array([lit(x) for x in a]))).drop('dummy')\n",
    "# combine both oversampled minority rows and previous majority rows \n",
    "combined_df = major_df.unionAll(oversampled_df)\n"
   ]
  },
  {
   "cell_type": "code",
   "execution_count": 165,
   "metadata": {
    "scrolled": true
   },
   "outputs": [
    {
     "data": {
      "text/plain": [
       "<AxesSubplot:xlabel='Is_CH', ylabel='count'>"
      ]
     },
     "execution_count": 165,
     "metadata": {},
     "output_type": "execute_result"
    },
    {
     "data": {
      "image/png": "[encoded data removed]",
      "text/plain": [
       "<Figure size 432x288 with 1 Axes>"
      ]
     },
     "metadata": {
      "needs_background": "light"
     },
     "output_type": "display_data"
    }
   ],
   "source": [
    "# Plot a count plot for the target label and notice the graph\n",
    "\n",
    "import seaborn as sns\n",
    "sns.countplot(data=combined_df.select(F.col('Is_CH')).toPandas(),x='Is_CH')"
   ]
  },
  {
   "cell_type": "code",
   "execution_count": 166,
   "metadata": {},
   "outputs": [
    {
     "data": {
      "text/plain": [
       "['Attack_type_idx']"
      ]
     },
     "execution_count": 166,
     "metadata": {},
     "output_type": "execute_result"
    }
   ],
   "source": [
    "#get the cateorical columns and the numeric columns\n",
    "catcols = [x for (x,y) in combined_df.dtypes if y==\"string\"]\n",
    "numericCols = [x for (x,y) in combined_df.dtypes if (((y==\"double\")|(y==\"int\"))&(x!=\"Survived\"))]\n",
    "#initialize the output columns from the indexer\n",
    "indexOutputCols = [x + \"_idx\" for x in catcols]\n",
    "#initialize the output columns from the one hot encoder\n",
    "oheCols = [x + \"_ohe\" for x in catcols]\n",
    "indexOutputCols"
   ]
  },
  {
   "cell_type": "code",
   "execution_count": 167,
   "metadata": {},
   "outputs": [],
   "source": [
    "#specify the numeric columns that you need to choose\n",
    "numericCols=[\n",
    " 'Time',\n",
    "\n",
    "\n",
    " 'DATA_R',\n",
    "\n",
    "\n",
    " 'send_code',\n",
    " 'Expaned_Energy']"
   ]
  },
  {
   "cell_type": "code",
   "execution_count": 168,
   "metadata": {
    "scrolled": true
   },
   "outputs": [
    {
     "data": {
      "text/plain": [
       "['Time', 'DATA_R', 'send_code', 'Expaned_Energy']"
      ]
     },
     "execution_count": 168,
     "metadata": {},
     "output_type": "execute_result"
    }
   ],
   "source": [
    "numericCols"
   ]
  },
  {
   "cell_type": "code",
   "execution_count": 169,
   "metadata": {},
   "outputs": [],
   "source": [
    "#StringIndexer: A label indexer that maps a string column of labels to an ML column of label indices.\n",
    "stringIndexer = StringIndexer(inputCols=catcols,\n",
    "                             outputCols=indexOutputCols,\n",
    "                             handleInvalid='skip')"
   ]
  },
  {
   "cell_type": "code",
   "execution_count": 170,
   "metadata": {},
   "outputs": [],
   "source": [
    "#one hot encoder\n",
    "oheEncoder = OneHotEncoder(inputCols=indexOutputCols,outputCols=oheCols)"
   ]
  },
  {
   "cell_type": "code",
   "execution_count": 171,
   "metadata": {},
   "outputs": [],
   "source": [
    "#A feature transformer that merges multiple columns into a vector column.\n",
    "assemblerInputs = oheCols + numericCols\n",
    "vecAssembler = VectorAssembler(inputCols=assemblerInputs,outputCol=\"featuresCol\")"
   ]
  },
  {
   "cell_type": "code",
   "execution_count": 172,
   "metadata": {},
   "outputs": [],
   "source": [
    "#split the data to train, test and validation\n",
    "trainDf,validate = combined_df.randomSplit([0.80,0.20],seed=42)\n",
    "testDf,validDf= validate.randomSplit([0.5,0.5],seed=42)"
   ]
  },
  {
   "cell_type": "code",
   "execution_count": 173,
   "metadata": {},
   "outputs": [],
   "source": [
    "from pyspark.ml.classification import RandomForestClassifier\n",
    "#initialize random forrest classifier\n",
    "rf = RandomForestClassifier(labelCol='Is_CH',featuresCol='featuresCol')\n",
    "# create a pipe line for all stages\n",
    "pipeline =Pipeline(stages = [stringIndexer,oheEncoder,vecAssembler,rf])\n",
    "pipelineModel = pipeline.fit(trainDf)\n",
    "# predict\n",
    "predDF = pipelineModel.transform(testDf)"
   ]
  },
  {
   "cell_type": "code",
   "execution_count": 174,
   "metadata": {
    "scrolled": true
   },
   "outputs": [
    {
     "data": {
      "text/plain": [
       "0.9895674340293622"
      ]
     },
     "execution_count": 174,
     "metadata": {},
     "output_type": "execute_result"
    }
   ],
   "source": [
    "from pyspark.ml.evaluation import MulticlassClassificationEvaluator\n",
    "classificationEvaluator = MulticlassClassificationEvaluator(predictionCol='prediction',\n",
    "                                         labelCol='Is_CH',\n",
    "                                         metricName='accuracy')\n",
    "accuracy = classificationEvaluator.evaluate(predDF)\n",
    "accuracy"
   ]
  },
  {
   "cell_type": "code",
   "execution_count": 175,
   "metadata": {
    "scrolled": true
   },
   "outputs": [
    {
     "name": "stdout",
     "output_type": "stream",
     "text": [
      "              precision    recall  f1-score   support\n",
      "\n",
      "           0       1.00      0.98      0.99     33164\n",
      "           1       0.98      1.00      0.99     30387\n",
      "\n",
      "    accuracy                           0.99     63551\n",
      "   macro avg       0.99      0.99      0.99     63551\n",
      "weighted avg       0.99      0.99      0.99     63551\n",
      "\n"
     ]
    }
   ],
   "source": [
    "from sklearn.metrics import classification_report, confusion_matrix\n",
    "# classification report to know precision,recall and f1 score\n",
    "print(classification_report(predDF.select(['Is_CH']).collect(), predDF.select(['prediction']).collect()))"
   ]
  },
  {
   "cell_type": "code",
   "execution_count": 176,
   "metadata": {
    "scrolled": true
   },
   "outputs": [],
   "source": [
    "#predict the validation\n",
    "valDF = pipelineModel.transform(validDf)"
   ]
  },
  {
   "cell_type": "code",
   "execution_count": 177,
   "metadata": {},
   "outputs": [
    {
     "data": {
      "text/plain": [
       "0.9902392103063847"
      ]
     },
     "execution_count": 177,
     "metadata": {},
     "output_type": "execute_result"
    }
   ],
   "source": [
    "from pyspark.ml.evaluation import MulticlassClassificationEvaluator\n",
    "classificationEvaluator = MulticlassClassificationEvaluator(predictionCol='prediction',\n",
    "                                         labelCol='Is_CH',\n",
    "                                         metricName='accuracy')\n",
    "# validation accuracy\n",
    "accuracy = classificationEvaluator.evaluate(valDF)\n",
    "accuracy"
   ]
  },
  {
   "cell_type": "code",
   "execution_count": null,
   "metadata": {},
   "outputs": [],
   "source": []
  },
  {
   "cell_type": "code",
   "execution_count": null,
   "metadata": {},
   "outputs": [],
   "source": []
  }
 ],
 "metadata": {
  "kernelspec": {
   "display_name": "Python 3",
   "language": "python",
   "name": "python3"
  },
  "language_info": {
   "codemirror_mode": {
    "name": "ipython",
    "version": 3
   },
   "file_extension": ".py",
   "mimetype": "text/x-python",
   "name": "python",
   "nbconvert_exporter": "python",
   "pygments_lexer": "ipython3",
   "version": "3.8.8"
  }
 },
 "nbformat": 4,
 "nbformat_minor": 4
}
